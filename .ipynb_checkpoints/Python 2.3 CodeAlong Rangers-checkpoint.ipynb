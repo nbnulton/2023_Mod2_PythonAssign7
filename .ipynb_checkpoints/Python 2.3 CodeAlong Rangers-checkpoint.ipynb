{
 "cells": [
  {
   "cell_type": "markdown",
   "metadata": {},
   "source": [
    "# Algorithms, Binary Search & Linked Lists"
   ]
  },
  {
   "cell_type": "markdown",
   "metadata": {},
   "source": [
    "## Tasks Today:\n",
    " \n",
    "1) <b>In-Place Algorithms</b> <br>\n",
    " &nbsp;&nbsp;&nbsp;&nbsp; a) Syntax <br>\n",
    " &nbsp;&nbsp;&nbsp;&nbsp; a) Out of Place Algorithm <br>\n",
    " &nbsp;&nbsp;&nbsp;&nbsp; b) In-Class Exercise #1 <br>\n",
    "2) <b>Two Pointers</b> <br>\n",
    "3) <b>Linked Lists</b> <br>\n",
    "4) <b>Merge Sort</b> <br>\n",
    " &nbsp;&nbsp;&nbsp;&nbsp; a) Video on Algorithms <br>\n",
    " &nbsp;&nbsp;&nbsp;&nbsp; b) How it Works <br>\n",
    "5) <b>Exercises</b> <br>\n",
    " &nbsp;&nbsp;&nbsp;&nbsp; a) Exercise #1 - Reverse a List in Place Using an In-Place Algorithm <br>\n",
    " &nbsp;&nbsp;&nbsp;&nbsp; b) Exercise #2 - Find Distinct Words <br>\n",
    " &nbsp;&nbsp;&nbsp;&nbsp; c) Exercise #3 - Write a program to implement a Linear Search Algorithm. <br>"
   ]
  },
  {
   "cell_type": "markdown",
   "metadata": {},
   "source": [
    "## In-Place Algorithms"
   ]
  },
  {
   "cell_type": "markdown",
   "metadata": {},
   "source": [
    "#### Syntax"
   ]
  },
  {
   "cell_type": "code",
   "execution_count": 10,
   "metadata": {},
   "outputs": [
    {
     "name": "stdout",
     "output_type": "stream",
     "text": [
      "Before swap: [20, 4, 10]\n",
      "20\n",
      "After swap: [10, 4, 20]\n",
      "10\n"
     ]
    }
   ],
   "source": [
    "# can either have a fast program or low memory program\n",
    "# fast programs take up more memory, low memory programs are slower\n",
    "\n",
    "# var[i], var[i+1] = var[i+1], var[i]\n",
    "# sometimes known as a swap algorithm, changes the order, overrides that piece of data, not using more memory, still in place\n",
    "\n",
    "# in place, happens in the same list value\n",
    "\n",
    "def swap(a_list, x, y, z):\n",
    "    a_list[x], a_list[y], a_list[z] = a_list[z], a_list[y], a_list[x]\n",
    "    return a_list\n",
    "\n",
    "my_list = [20, 4, 10]\n",
    "print(f\"Before swap: {my_list}\")\n",
    "# these will usually change when swapping\n",
    "print(my_list[0])\n",
    "\n",
    "# below puts it in numerical order, order by value\n",
    "# swap(my_list, 2, 0, 1)\n",
    "\n",
    "# swaps the first and last numbers, order by position\n",
    "swap(my_list, 0, 1, 2)\n",
    "\n",
    "print(f\"After swap: {my_list}\")\n",
    "print(my_list[0])\n"
   ]
  },
  {
   "cell_type": "markdown",
   "metadata": {},
   "source": [
    "#### Out of Place Algorithm"
   ]
  },
  {
   "cell_type": "code",
   "execution_count": 19,
   "metadata": {},
   "outputs": [
    {
     "name": "stdout",
     "output_type": "stream",
     "text": [
      "Before swap: [20, 4, 10]\n",
      "20\n",
      "After swap: [10, 4, 20]\n",
      "10\n",
      "[20, 4, 10]\n",
      "[10, 4, 20]\n",
      "Before  ['a', 'b', 'c', 'd']\n",
      "After  ['d', 'c', 'b', 'a']\n",
      "Original  ['a', 'b', 'c', 'd']\n"
     ]
    }
   ],
   "source": [
    "# when you don't want to use storage and actually change the value\n",
    "# reversing completely, not swapping BUT also copies to another place in memory\n",
    "# out of place makes additional values\n",
    "\n",
    "def swap(a_list, x, y, z):\n",
    "    a_list[x], a_list[y], a_list[z] = a_list[z], a_list[y], a_list[x]\n",
    "    return a_list\n",
    "\n",
    "my_list = [20, 4, 10]\n",
    "print(f\"Before swap: {my_list}\")\n",
    "# these will usually change when swapping\n",
    "print(my_list[0])\n",
    "\n",
    "# below puts it in numerical order, order by value\n",
    "# swap(my_list, 2, 0, 1)\n",
    "\n",
    "# swaps the first and last numbers, order by position\n",
    "swap(my_list, 0, 1, 2)\n",
    "\n",
    "print(f\"After swap: {my_list}\")\n",
    "print(my_list[0])\n",
    "\n",
    "# the [::-1] python does stuff in the background\n",
    "my_list_copy = my_list[::-1]\n",
    "print(my_list_copy)\n",
    "\n",
    "print(my_list)\n",
    "\n",
    "\n",
    "\n",
    "# this is where we actually write everything out ourselves instead of using the [::-1] that python does in the background\n",
    "array = [\"a\", \"b\", \"c\", \"d\"]\n",
    "new_array = [\"a\"] * len(array)\n",
    "\n",
    "print(\"Before \", array)\n",
    "length = len(array) - 1\n",
    "\n",
    "for i in range(length):\n",
    "    new_array[i] = array[length - i]\n",
    "    \n",
    "# array = new_array\n",
    "print(\"After \", new_array)\n",
    "print(\"Original \", array)\n",
    "\n"
   ]
  },
  {
   "cell_type": "markdown",
   "metadata": {},
   "source": [
    "#### In-Class Exercise #1 <br>\n",
    "<p>Write a function that takes in four arguments (list, index1, index2, index3), and swaps those three positions in the list passed in.</p>"
   ]
  },
  {
   "cell_type": "code",
   "execution_count": 25,
   "metadata": {},
   "outputs": [
    {
     "name": "stdout",
     "output_type": "stream",
     "text": [
      "Before swap: [10, 4, 3, 8, 4, 2, 6]\n",
      "After swap: [3, 4, 10, 8, 4, 2, 6]\n"
     ]
    }
   ],
   "source": [
    "list_1 = [10, 4, 3, 8, 4, 2, 6]\n",
    "\n",
    "def swap(a_list, x, y, z):\n",
    "    a_list[x], a_list[y], a_list[z] = a_list[z], a_list[y], a_list[x]\n",
    "    return a_list\n",
    "\n",
    "print(f\"Before swap: {list_1}\")\n",
    "\n",
    "swap(list_1, 0, 1, 2)\n",
    "\n",
    "print(f\"After swap: {list_1}\")\n"
   ]
  },
  {
   "cell_type": "markdown",
   "metadata": {},
   "source": [
    "## Two Pointers"
   ]
  },
  {
   "cell_type": "markdown",
   "metadata": {},
   "source": [
    "#### Syntax"
   ]
  },
  {
   "cell_type": "code",
   "execution_count": 28,
   "metadata": {},
   "outputs": [
    {
     "name": "stdout",
     "output_type": "stream",
     "text": [
      "[1, 2, 3, 12, 9, 8, 4, 11, 22]\n"
     ]
    },
    {
     "data": {
      "text/plain": [
       "[22, 11, 4, 8, 9, 12, 3, 2, 1]"
      ]
     },
     "execution_count": 28,
     "metadata": {},
     "output_type": "execute_result"
    }
   ],
   "source": [
    "# two items that based on certain parameters are moving where they are in a list\n",
    "# like saying having a list of numbers, which ones add up to 17\n",
    "# can be used to swap a list from front to back\n",
    "\n",
    "# below, or like alist[low side of numbers] alist[high side of numbers]\n",
    "# alist[left], alist[right] = alist[right], alist[left]\n",
    "\n",
    "def twoPointers(alist):\n",
    "#     create the pointers\n",
    "    left = 0\n",
    "#   right = alist[-1] is by value but we need to do it by position, so we do the below\n",
    "#   right will be the index of the last item\n",
    "    right = len(alist) - 1\n",
    "#   set up a loop that works through our list and swaps things one pair at a time\n",
    "#   while 0 is less than whatever is on the right\n",
    "    while left <= right:\n",
    "        alist[left], alist[right] = alist[right], alist[left]\n",
    "        left += 1\n",
    "        right -=1\n",
    "    return alist\n",
    "\n",
    "my_list2 = [1, 2, 3, 12, 9, 8, 4, 11, 22]\n",
    "print(my_list2)\n",
    "twoPointers(my_list2)\n"
   ]
  },
  {
   "cell_type": "markdown",
   "metadata": {},
   "source": [
    "#### Video of Algorithms <br>\n",
    "<p>Watch the video about algorithms.</p>\n",
    "\n",
    "https://www.youtube.com/watch?v=Q9HjeFD62Uk\n",
    "\n",
    "https://www.youtube.com/watch?v=kPRA0W1kECg\n",
    "\n",
    "https://www.youtube.com/watch?v=ZZuD6iUe3Pc\n",
    "\n",
    "random: fastest to slowest:\n",
    "quick, shell, merge, heap, comb, insertion, selection, cocktail, bubble\n",
    "\n",
    "few unique:\n",
    "quick, shell, merge, heap, comb, insertion, selection, cocktail, bubble\n",
    "\n",
    "reversed:\n",
    "quick, shell, merge, heap, comb, selection, insertion, bubble, cocktail\n",
    "\n",
    "almost sorted:\n",
    "insertion, cocktail, quick, shell, merge, comb, heap, bubble, selection\n"
   ]
  },
  {
   "cell_type": "markdown",
   "metadata": {},
   "source": [
    "# Sorting Algorithms"
   ]
  },
  {
   "cell_type": "markdown",
   "metadata": {},
   "source": [
    "#### Bubble Sort\n",
    "\n",
    "Worst Case: O(n^2) Time - O(1) Space"
   ]
  },
  {
   "cell_type": "code",
   "execution_count": 5,
   "metadata": {},
   "outputs": [
    {
     "data": {
      "text/plain": [
       "[1, 22, 34, 44, 55, 66, 88, 100]"
      ]
     },
     "execution_count": 5,
     "metadata": {},
     "output_type": "execute_result"
    }
   ],
   "source": [
    "# best case: O(n) - Linear... only has to run through it one time\n",
    "# using this swap and bubbleSort function to return the list in numerical order\n",
    "# can be slow because it goes through each item one by one, finds the largest number,\n",
    "# puts it at the end, and starts all over again from the beginning\n",
    "\n",
    "\n",
    "def swap(i, j, array):\n",
    "    array[i], array[j] = array[j], array[i]\n",
    "    \n",
    "def bubbleSort(array):\n",
    "    isSorted = False\n",
    "#     double negative so while True\n",
    "    while not isSorted:\n",
    "        isSorted = True\n",
    "#       goes to the length of the list, need the - 1 otherwise it's an out of range error\n",
    "        for num in range(len(array) - 1):\n",
    "#         saying if the first number is greater than the next number in the list\n",
    "            if array[num] > array[num + 1]:\n",
    "#         swap them\n",
    "                swap(num, num + 1, array)\n",
    "                isSorted = False\n",
    "    return array\n",
    "\n",
    "bubbleSort([22, 55, 88, 44, 1, 100, 34, 66])\n",
    "    \n",
    "    \n",
    "    "
   ]
  },
  {
   "cell_type": "markdown",
   "metadata": {},
   "source": [
    "##### Insertion Sort\n",
    "\n",
    "Worst Case: O(n^2) time - O(1)space"
   ]
  },
  {
   "cell_type": "code",
   "execution_count": 7,
   "metadata": {},
   "outputs": [
    {
     "data": {
      "text/plain": [
       "[1, 22, 34, 44, 55, 66, 88, 100]"
      ]
     },
     "execution_count": 7,
     "metadata": {},
     "output_type": "execute_result"
    }
   ],
   "source": [
    "# double for loops, the for num in range and then the while loop\n",
    "\n",
    "def swap(i, j, array):\n",
    "    array[i], array[j] = array[j], array[i]\n",
    "    \n",
    "def insertionSort(array):\n",
    "#     from 1 to however long the array is, must be a one because if it was index 0 it would try to go to a - 1 index\n",
    "    for num in range(1, len(array)):\n",
    "#       j index is now that number, let's say the (44)\n",
    "        j = num\n",
    "#     while (44) is greater than 0 and index[3] (44) is less than index[2] which is the - 1 (88)...\n",
    "        while j > 0 and array[j] < array[j - 1]:\n",
    "#         swap the position by moving it to the left one index\n",
    "            swap(j, j - 1, array)\n",
    "#     go down by one index for j to double check the numbers before that are still ok\n",
    "#     for instance, the 44 will have to be ran again to get behind 55\n",
    "            j -= 1\n",
    "    return array\n",
    "\n",
    "\n",
    "insertionSort([22, 55, 88, 44, 1, 100 ,34 ,66])\n",
    "    \n",
    "    \n",
    "    "
   ]
  },
  {
   "cell_type": "markdown",
   "metadata": {},
   "source": [
    "## Merge Sort"
   ]
  },
  {
   "cell_type": "markdown",
   "metadata": {},
   "source": [
    "#### How it Works"
   ]
  },
  {
   "cell_type": "code",
   "execution_count": 14,
   "metadata": {},
   "outputs": [
    {
     "name": "stdout",
     "output_type": "stream",
     "text": [
      "[18, 5, 14, 8, 10]\n",
      "Splitting...  [18, 5, 14, 8, 10]\n",
      "Splitting...  [18, 5]\n",
      "Splitting...  [18]\n",
      "Merging...  [18]\n",
      "Splitting...  [5]\n",
      "Merging...  [5]\n",
      "Merging...  [5, 18]\n",
      "Splitting...  [14, 8, 10]\n",
      "Splitting...  [14]\n",
      "Merging...  [14]\n",
      "Splitting...  [8, 10]\n",
      "Splitting...  [8]\n",
      "Merging...  [8]\n",
      "Splitting...  [10]\n",
      "Merging...  [10]\n",
      "Merging...  [8, 10]\n",
      "Merging...  [8, 10, 14]\n",
      "Merging...  [5, 8, 10, 14, 18]\n"
     ]
    },
    {
     "data": {
      "text/plain": [
       "[5, 8, 10, 14, 18]"
      ]
     },
     "execution_count": 14,
     "metadata": {},
     "output_type": "execute_result"
    }
   ],
   "source": [
    "# step 1: split everything into it's own group\n",
    "# step 2: from left to right, merge two groups together\n",
    "# step 3: while merging, place each item in the correct position within the merged group\n",
    "# step 4: continue steps 3-4 until only one group is left\n",
    "\n",
    "\n",
    "from random import randint\n",
    "# used to generate a random list of five numbers from 0 to 20\n",
    "nums = [randint(0, 20) for i in range(5)]\n",
    "print(nums)\n",
    "\n",
    "# write our merge sort below\n",
    "def mergeSort(alist):\n",
    "    print(\"Splitting... \", alist)\n",
    "    \n",
    "#     STEP 1: divide the array into equal parts (as much as possible)\n",
    "    if len(alist) > 1:\n",
    "#         floor division (for a whole number) by 2\n",
    "        mid = len(alist) // 2\n",
    "#     left half up until the middle\n",
    "        lefthalf = alist[:mid]\n",
    "#     right half from middle up\n",
    "        righthalf = alist[mid:]\n",
    "#     recursively call mergeSort to perform splits if needed\n",
    "#     the merge once the splits are done\n",
    "        mergeSort(lefthalf)\n",
    "        mergeSort(righthalf)\n",
    "#      index pointers for our list\n",
    "#      pointer for our left half\n",
    "        i = 0 \n",
    "#      pointer for our right half\n",
    "        j = 0\n",
    "#      pointer for our main array   \n",
    "        k = 0\n",
    "#     STEP 2: compare the left half and the right half\n",
    "        while i < len(lefthalf) and j < len(righthalf):\n",
    "            if lefthalf[i] < righthalf[j]:\n",
    "                alist[k] = lefthalf[i]\n",
    "                i = i + 1\n",
    "            else:\n",
    "                alist[k] = righthalf[j]\n",
    "                j = j + 1\n",
    "            k = k + 1\n",
    "#     STEP 3: while merging, place the items in the correct positions\n",
    "        while i < len(lefthalf):\n",
    "            alist[k] = lefthalf[i]\n",
    "            i = i + 1\n",
    "            k = k + 1\n",
    "        while j < len(righthalf):\n",
    "            alist[k] = righthalf[j]\n",
    "            j = j + 1\n",
    "            k = k + 1\n",
    "    print(\"Merging... \", alist)\n",
    "    return alist\n",
    "    \n",
    "mergeSort(nums)   \n",
    "    \n",
    "    \n",
    "    \n",
    "    \n",
    "    "
   ]
  },
  {
   "cell_type": "markdown",
   "metadata": {},
   "source": [
    "# Binary Search\n",
    "\n",
    "The Binary Search algorithm works by finding the number in the middle of a given array and comparing it to the target. Given that the array is sorted\n",
    "\n",
    "* The worst case run time for this algorithm is `O(log(n))`"
   ]
  },
  {
   "cell_type": "code",
   "execution_count": 15,
   "metadata": {},
   "outputs": [
    {
     "data": {
      "text/plain": [
       "'The index is... 1'"
      ]
     },
     "execution_count": 15,
     "metadata": {},
     "output_type": "execute_result"
    }
   ],
   "source": [
    "# list of numbers must be sorted\n",
    "# less = left\n",
    "# greater = right\n",
    "\n",
    "#                              list      44    0  to  5     \n",
    "def binarySearchHelperFunction(array, target, left, right):\n",
    "#          0   <=   5\n",
    "    while left <= right:\n",
    "#         2    =   0       5     // 2\n",
    "        middle = (left + right) // 2\n",
    "#             (55)       array's 2nd index\n",
    "        potentialMatch = array[middle]\n",
    "#          44 is NOT 55, keeps going\n",
    "        if target == potentialMatch:\n",
    "            return f\"The index is... {middle}\"\n",
    "#              44 is less than 55\n",
    "        elif target < potentialMatch:\n",
    "# take right and subtract 1 from it, so ran again, the middle index of [0] is 22 and [1] is 44, floored so index is now at [0]\n",
    "#       and adds an index to the right, which is now just 44, resulting in index [1]\n",
    "            right = middle - 1\n",
    "        else:\n",
    "            left = middle + 1\n",
    "    return - 1\n",
    "\n",
    "def binarySearch(array, target):\n",
    "    return binarySearchHelperFunction(array, target, 0, len(array) - 1)\n",
    "\n",
    "# 44 at the end is the target that we're looking for\n",
    "binarySearch([22, 44, 55, 66, 88, 100], 44)\n",
    "\n",
    "\n",
    "\n"
   ]
  },
  {
   "cell_type": "markdown",
   "metadata": {},
   "source": [
    "# Exercises"
   ]
  },
  {
   "cell_type": "markdown",
   "metadata": {},
   "source": [
    "### Exercise #1 <br>\n",
    "<p>Reverse the list below in-place using an in-place algorithm.<br>For extra credit: Reverse the strings at the same time.</p>"
   ]
  },
  {
   "cell_type": "code",
   "execution_count": 1,
   "metadata": {},
   "outputs": [
    {
     "name": "stdout",
     "output_type": "stream",
     "text": [
      "['siht', 'si', 'a', 'ecnetnes', '.']\n",
      "Before swap: ['this', 'is', 'a', 'sentence', '.']\n",
      "After swap: ['.', 'ecnetnes', 'a', 'si', 'siht']\n"
     ]
    }
   ],
   "source": [
    "words = ['this' , 'is', 'a', 'sentence', '.']\n",
    "words2 = []\n",
    "\n",
    "for word in words:\n",
    "    words2.append(word[::-1])\n",
    "    \n",
    "def swap(a_list, a, b, c, d, e):\n",
    "    a_list[a], a_list[b], a_list[c], a_list[d], a_list[e] = a_list[e], a_list[d], a_list[c], a_list[b], a_list[a]\n",
    "    return a_list\n",
    "    \n",
    "print(words2)\n",
    "\n",
    "print(f\"Before swap: {words}\")\n",
    "\n",
    "swap(words2, 4, 3, 2, 1, 0)\n",
    "\n",
    "print(f\"After swap: {words2}\")\n"
   ]
  },
  {
   "cell_type": "markdown",
   "metadata": {},
   "source": [
    "### Exercise #2 <br>\n",
    "<p>Create a function that counts how many distinct words are in the string below, then outputs a dictionary with the words as the key and the value as the amount of times that word appears in the string.<br>Should output:<br>{'a': 5,<br>\n",
    " 'abstract': 1,<br>\n",
    " 'an': 3,<br>\n",
    " 'array': 2, ... etc...</p>"
   ]
  },
  {
   "cell_type": "code",
   "execution_count": 47,
   "metadata": {},
   "outputs": [
    {
     "name": "stdout",
     "output_type": "stream",
     "text": [
      "{'in': 1, 'computing,': 1, 'a': 5, 'hash': 4, 'table': 2, 'map': 2, 'is': 1, 'data': 2, 'structure': 2, 'which': 2, 'implements': 1, 'an': 3, 'associative': 1, 'array': 2, 'abstract': 1, 'type,': 1, 'that': 1, 'can': 2, 'keys': 1, 'to': 2, 'values.': 1, 'uses': 1, 'function': 1, 'compute': 1, 'index': 1, 'into': 1, 'of': 1, 'buckets': 1, 'or': 1, 'slots': 1, 'from': 1, 'the': 1, 'desired': 1, 'value': 1, 'be': 1, 'found': 1}\n"
     ]
    }
   ],
   "source": [
    "a_text = 'In computing, a hash table hash map is a data structure which implements an associative array abstract data type, a structure that can map keys to values. A hash table uses a hash function to compute an index into an array of buckets or slots from which the desired value can be found'\n",
    "\n",
    "b_text = a_text.lower()\n",
    "\n",
    "def wordCount(str):\n",
    "    counts = dict()\n",
    "    b_text = str.split()\n",
    "    \n",
    "    for word in b_text:\n",
    "        if word in counts:\n",
    "            counts[word] += 1\n",
    "        else:\n",
    "            counts[word] = 1\n",
    "    return counts\n",
    "\n",
    "print(wordCount(b_text))\n"
   ]
  },
  {
   "cell_type": "markdown",
   "metadata": {},
   "source": [
    "## Exercise #3\n",
    "\n",
    "Write a program to implement a Linear Search Algorithm. Also in a comment, write the Time Complexity of the following algorithm.\n",
    "\n",
    "#### Hint: Linear Searching will require searching a list for a given number. "
   ]
  },
  {
   "cell_type": "code",
   "execution_count": 28,
   "metadata": {},
   "outputs": [
    {
     "data": {
      "text/plain": [
       "-1"
      ]
     },
     "execution_count": 28,
     "metadata": {},
     "output_type": "execute_result"
    }
   ],
   "source": [
    "# if number is not present, return -1\n",
    "# linear search algorithm time complexity is O(n)\n",
    "# worst case scenario is O(n)\n",
    "\n",
    "nums_list = [10, 23, 45, 70, 11, 15]\n",
    "target = 70\n",
    "\n",
    "def binarySearchHelperFunction(nums_list, target, left, right):\n",
    "    while left <= right:\n",
    "        middle = (left + right) // 2\n",
    "        potentialMatch = nums_list[middle]\n",
    "        if target == potentialMatch:\n",
    "            return f\"The index is... {middle}\"\n",
    "        elif target < potentialMatch:\n",
    "            right = middle - 1\n",
    "        else:\n",
    "            left = middle + 1\n",
    "    return - 1\n",
    "\n",
    "def binarySearch(nums_list, target):\n",
    "    return binarySearchHelperFunction(nums_list, target, 0, len(new_list) - 1)\n",
    "\n",
    "binarySearch(nums_list, target)\n",
    "\n"
   ]
  },
  {
   "cell_type": "code",
   "execution_count": null,
   "metadata": {},
   "outputs": [],
   "source": []
  }
 ],
 "metadata": {
  "kernelspec": {
   "display_name": "Python 3 (ipykernel)",
   "language": "python",
   "name": "python3"
  },
  "language_info": {
   "codemirror_mode": {
    "name": "ipython",
    "version": 3
   },
   "file_extension": ".py",
   "mimetype": "text/x-python",
   "name": "python",
   "nbconvert_exporter": "python",
   "pygments_lexer": "ipython3",
   "version": "3.9.13"
  }
 },
 "nbformat": 4,
 "nbformat_minor": 2
}
